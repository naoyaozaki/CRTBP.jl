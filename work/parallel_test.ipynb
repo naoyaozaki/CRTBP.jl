{
 "cells": [
  {
   "cell_type": "code",
   "execution_count": 8,
   "metadata": {},
   "outputs": [],
   "source": [
    "using Distributed\n",
    "using DifferentialEquations\n",
    "using Plots\n",
    "\n",
    "addprocs(exeflags=\"--project=$(Base.active_project())\")\n",
    "@everywhere using DifferentialEquations\n"
   ]
  },
  {
   "cell_type": "code",
   "execution_count": 9,
   "metadata": {},
   "outputs": [
    {
     "data": {
      "text/plain": [
       "\u001b[38;2;86;182;194mODEProblem\u001b[0m with uType \u001b[38;2;86;182;194mFloat64\u001b[0m and tType \u001b[38;2;86;182;194mFloat64\u001b[0m. In-place: \u001b[38;2;86;182;194mfalse\u001b[0m\n",
       "timespan: (0.0, 1.0)\n",
       "u0: 0.5"
      ]
     },
     "metadata": {},
     "output_type": "display_data"
    }
   ],
   "source": [
    "# Linear ODE which starts at 0.5 and solves from t=0.0 to t=1.0\n",
    "prob = ODEProblem((u, p, t) -> 1.01u, 0.5, (0.0, 1.0)) # 解くべきODEが\"(u, p, t) -> 1.01u”, 初期条件u0=0.5, tsapn=(0.0,1.0)"
   ]
  },
  {
   "cell_type": "code",
   "execution_count": 10,
   "metadata": {},
   "outputs": [],
   "source": [
    "@everywhere function prob_func(prob, i, repeat)\n",
    "    remake(prob, u0=rand() * prob.u0)\n",
    "end"
   ]
  },
  {
   "cell_type": "code",
   "execution_count": 16,
   "metadata": {},
   "outputs": [
    {
     "data": {
      "text/plain": [
       "100"
      ]
     },
     "metadata": {},
     "output_type": "display_data"
    }
   ],
   "source": [
    "ensemble_prob = EnsembleProblem(prob, prob_func=prob_func)\n",
    "sim = solve(ensemble_prob, Tsit5(), EnsembleDistributed(), trajectories=100)\n",
    "\n",
    "size(sim,2)"
   ]
  },
  {
   "cell_type": "code",
   "execution_count": 12,
   "metadata": {},
   "outputs": [],
   "source": [
    "plotly()\n",
    "plot(sim, linealpha=0.4)"
   ]
  },
  {
   "cell_type": "code",
   "execution_count": 13,
   "metadata": {},
   "outputs": [
    {
     "data": {
      "text/plain": [
       "retcode: Success\n",
       "Interpolation: specialized 4th order \"free\" interpolation\n",
       "t: 5-element Vector{Float64}:\n",
       " 0.0\n",
       " 0.0996570929793885\n",
       " 0.3457510213075278\n",
       " 0.6777806714963273\n",
       " 1.0\n",
       "u: 5-element Vector{Float64}:\n",
       " 0.3663586758702287\n",
       " 0.4051537019804564\n",
       " 0.519476395419094\n",
       " 0.7264511877528333\n",
       " 1.005874703546196"
      ]
     },
     "metadata": {},
     "output_type": "display_data"
    }
   ],
   "source": [
    "using DifferentialEquations\n",
    "prob = ODEProblem((u, p, t) -> 1.01u, 0.5, (0.0, 1.0))\n",
    "function prob_func(prob, i, repeat)\n",
    "    remake(prob, u0=rand() * prob.u0)\n",
    "end\n",
    "ensemble_prob = EnsembleProblem(prob, prob_func=prob_func)\n",
    "sim = solve(ensemble_prob, Tsit5(), EnsembleThreads(), trajectories=10)\n",
    "\n",
    "sim[1]"
   ]
  },
  {
   "cell_type": "code",
   "execution_count": 14,
   "metadata": {},
   "outputs": [],
   "source": []
  }
 ],
 "metadata": {
  "kernelspec": {
   "display_name": "Julia 1.8.3",
   "language": "julia",
   "name": "julia-1.8"
  },
  "language_info": {
   "file_extension": ".jl",
   "mimetype": "application/julia",
   "name": "julia",
   "version": "1.8.3"
  },
  "orig_nbformat": 4
 },
 "nbformat": 4,
 "nbformat_minor": 2
}
